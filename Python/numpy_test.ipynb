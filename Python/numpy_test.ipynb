{
 "cells": [
  {
   "cell_type": "code",
   "execution_count": 2,
   "metadata": {},
   "outputs": [],
   "source": [
    "import numpy as np"
   ]
  },
  {
   "cell_type": "code",
   "execution_count": 47,
   "metadata": {},
   "outputs": [
    {
     "name": "stdout",
     "output_type": "stream",
     "text": [
      "[[[False]\n",
      "  [ True]\n",
      "  [False]\n",
      "  [False]\n",
      "  [False]]\n",
      "\n",
      " [[False]\n",
      "  [False]\n",
      "  [False]\n",
      "  [ True]\n",
      "  [False]]\n",
      "\n",
      " [[False]\n",
      "  [ True]\n",
      "  [False]\n",
      "  [False]\n",
      "  [False]]\n",
      "\n",
      " [[False]\n",
      "  [False]\n",
      "  [ True]\n",
      "  [False]\n",
      "  [False]]]\n"
     ]
    }
   ],
   "source": [
    "data = np.array([[0,8],[9,0],[7,8],[56,98]])\n",
    "labels = np.array([1,3,1,2])\n",
    "mask = (labels[:, None] == np.arange(5))\n",
    "#print(data[:, None, :]*mask[:,:,None])\n",
    "print(mask[:,:, None])"
   ]
  },
  {
   "cell_type": "code",
   "execution_count": null,
   "metadata": {},
   "outputs": [],
   "source": []
  }
 ],
 "metadata": {
  "kernelspec": {
   "display_name": "Python 3",
   "language": "python",
   "name": "python3"
  },
  "language_info": {
   "codemirror_mode": {
    "name": "ipython",
    "version": 3
   },
   "file_extension": ".py",
   "mimetype": "text/x-python",
   "name": "python",
   "nbconvert_exporter": "python",
   "pygments_lexer": "ipython3",
   "version": "3.12.2"
  }
 },
 "nbformat": 4,
 "nbformat_minor": 2
}
